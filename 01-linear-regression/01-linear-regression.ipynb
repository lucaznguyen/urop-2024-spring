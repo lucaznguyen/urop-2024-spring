{
  "cells": [
    {
      "cell_type": "markdown",
      "metadata": {
        "id": "Q3uBPG7qkHnU"
      },
      "source": [
        "# Course 02 - Introduction to Linear Regression"
      ]
    },
    {
      "cell_type": "markdown",
      "metadata": {
        "id": "n4ng_Z74k2J0"
      },
      "source": [
        "In this notebook, we will learn how to use:\n",
        "* numpy - a python library helping to perform math operators on matrices and tensors efficiently\n",
        "* solving Linear Regression using Exact Solution"
      ]
    },
    {
      "cell_type": "markdown",
      "metadata": {
        "id": "pZW1TQOTlUnQ"
      },
      "source": [
        "# 1. Numpy"
      ]
    },
    {
      "cell_type": "markdown",
      "metadata": {
        "id": "z7s80jwEmjW8"
      },
      "source": [
        "## The np.array class"
      ]
    },
    {
      "cell_type": "code",
      "execution_count": null,
      "metadata": {
        "colab": {
          "base_uri": "https://localhost:8080/"
        },
        "id": "WiDfL2YykG1_",
        "outputId": "dd30e3c0-3fd5-4d56-cdbc-4f500f4fd88b"
      },
      "outputs": [
        {
          "name": "stdout",
          "output_type": "stream",
          "text": [
            "<class 'numpy.ndarray'>\n"
          ]
        }
      ],
      "source": [
        "import numpy as np                 # import numpy library with the name as np\n",
        "\n",
        "an_array = np.array([3, 33, 333])  # create a 1D array\n",
        "\n",
        "print(type(an_array))              # print type of the object"
      ]
    },
    {
      "cell_type": "code",
      "execution_count": null,
      "metadata": {
        "colab": {
          "base_uri": "https://localhost:8080/"
        },
        "id": "_isUr35IlwCA",
        "outputId": "67b290ce-96e7-44fb-8272-bde6e88bb187"
      },
      "outputs": [
        {
          "name": "stdout",
          "output_type": "stream",
          "text": [
            "(3,)\n"
          ]
        }
      ],
      "source": [
        "print(an_array.shape)              # print array size"
      ]
    },
    {
      "cell_type": "code",
      "execution_count": null,
      "metadata": {
        "colab": {
          "base_uri": "https://localhost:8080/"
        },
        "id": "-fNjAlAllywR",
        "outputId": "e6e430f4-1bec-4d92-cc3b-fb1f06d5c6b9"
      },
      "outputs": [
        {
          "name": "stdout",
          "output_type": "stream",
          "text": [
            "3 33 333\n"
          ]
        }
      ],
      "source": [
        "print(an_array[0], an_array[1], an_array[2])    # print array's elements manually"
      ]
    },
    {
      "cell_type": "code",
      "execution_count": null,
      "metadata": {
        "colab": {
          "base_uri": "https://localhost:8080/"
        },
        "id": "BxevZAkQl3Rp",
        "outputId": "8f969f40-6b7f-459a-fbad-0a762d80c44b"
      },
      "outputs": [
        {
          "name": "stdout",
          "output_type": "stream",
          "text": [
            "[888  33 333]\n"
          ]
        }
      ],
      "source": [
        "an_array[0] = 888            # we can change the element's value by assigning it a particular number\n",
        "\n",
        "print(an_array)"
      ]
    },
    {
      "cell_type": "code",
      "execution_count": null,
      "metadata": {
        "colab": {
          "base_uri": "https://localhost:8080/"
        },
        "id": "0tBGrbPTmGI-",
        "outputId": "127149e6-7aae-4cd5-cc23-7833d7c91693"
      },
      "outputs": [
        {
          "name": "stdout",
          "output_type": "stream",
          "text": [
            "[[11 12 13]\n",
            " [21 22 23]]\n",
            "Size of this matrix: (2, 3)\n",
            "Print the elements at indices [0,0], [0,1], and [1,0] of this matrix: 11 , 12 , 21\n"
          ]
        }
      ],
      "source": [
        "another = np.array([[11,12,13],\n",
        "                    [21,22,23]])   # create a 2D array (a matrix)\n",
        "\n",
        "print(another)  # print this matrix\n",
        "\n",
        "print(\"Size of this matrix:\", another.shape)  # rows x columns\n",
        "\n",
        "print(\"Print the elements at indices [0,0], [0,1], and [1,0] of this matrix:\", another[0, 0], \",\",another[0, 1],\",\", another[1, 0])"
      ]
    },
    {
      "cell_type": "markdown",
      "metadata": {
        "id": "Nkk8_9semmHe"
      },
      "source": [
        "## Common operators"
      ]
    },
    {
      "cell_type": "code",
      "execution_count": null,
      "metadata": {
        "colab": {
          "base_uri": "https://localhost:8080/"
        },
        "id": "qnzal_aomoC-",
        "outputId": "96277462-0c35-43d6-d272-1c0b0a6e3a42"
      },
      "outputs": [
        {
          "name": "stdout",
          "output_type": "stream",
          "text": [
            "[[1 2]\n",
            " [3 4]]\n",
            "\n",
            "[[4.1 5.1]\n",
            " [6.1 7.1]]\n"
          ]
        }
      ],
      "source": [
        "x = np.array([[1,2],[3,4]], dtype=np.int64)                  ## create a matrix with integer elements\n",
        "y = np.array([[4.1,5.1],[6.1,7.1]], dtype=np.float64)      ## create a matrix with float elements\n",
        "\n",
        "print(x)\n",
        "print()\n",
        "print(y)"
      ]
    },
    {
      "cell_type": "code",
      "execution_count": null,
      "metadata": {
        "colab": {
          "base_uri": "https://localhost:8080/"
        },
        "id": "cwCB6wwHm5Ii",
        "outputId": "6ff46264-52dc-48f8-f31a-b9b87bebfc1f"
      },
      "outputs": [
        {
          "name": "stdout",
          "output_type": "stream",
          "text": [
            "[[ 5.1  7.1]\n",
            " [ 9.1 11.1]]\n"
          ]
        }
      ],
      "source": [
        "# addition operator\n",
        "print(x + y)"
      ]
    },
    {
      "cell_type": "code",
      "execution_count": null,
      "metadata": {
        "colab": {
          "base_uri": "https://localhost:8080/"
        },
        "id": "LzRDmXkmm8Sj",
        "outputId": "553b81a8-6b6b-4a65-ca98-2a82c909ff79"
      },
      "outputs": [
        {
          "name": "stdout",
          "output_type": "stream",
          "text": [
            "[[-3.1 -3.1]\n",
            " [-3.1 -3.1]]\n"
          ]
        }
      ],
      "source": [
        "# subtraction operator\n",
        "print(x - y)"
      ]
    },
    {
      "cell_type": "code",
      "execution_count": null,
      "metadata": {
        "colab": {
          "base_uri": "https://localhost:8080/"
        },
        "id": "h7pxUUUVnD02",
        "outputId": "1a65d9b2-f758-46b9-d5d0-0f1b282bf838"
      },
      "outputs": [
        {
          "name": "stdout",
          "output_type": "stream",
          "text": [
            "[[ 4.1 10.2]\n",
            " [18.3 28.4]]\n"
          ]
        }
      ],
      "source": [
        "# element-wise production\n",
        "print(x * y)"
      ]
    },
    {
      "cell_type": "code",
      "execution_count": null,
      "metadata": {
        "colab": {
          "base_uri": "https://localhost:8080/"
        },
        "id": "FccQNLhVnJAG",
        "outputId": "3b4ddcff-1a71-4824-c790-a83413e8a3f0"
      },
      "outputs": [
        {
          "name": "stdout",
          "output_type": "stream",
          "text": [
            "[[0.24390244 0.39215686]\n",
            " [0.49180328 0.56338028]]\n"
          ]
        }
      ],
      "source": [
        "# element-wise division\n",
        "print(x / y)"
      ]
    },
    {
      "cell_type": "code",
      "execution_count": null,
      "metadata": {
        "colab": {
          "base_uri": "https://localhost:8080/"
        },
        "id": "KCQaqTBYnQN2",
        "outputId": "9b100b15-5143-47df-da5b-b02cbc17541e"
      },
      "outputs": [
        {
          "name": "stdout",
          "output_type": "stream",
          "text": [
            "[[16.3 19.3]\n",
            " [36.7 43.7]]\n",
            "[[16.3 19.3]\n",
            " [36.7 43.7]]\n"
          ]
        }
      ],
      "source": [
        "# matrix production\n",
        "print(np.matmul(x, y))\n",
        "print(np.dot(x, y))"
      ]
    },
    {
      "cell_type": "code",
      "execution_count": null,
      "metadata": {
        "colab": {
          "base_uri": "https://localhost:8080/"
        },
        "id": "U1Y8kAAxnTRE",
        "outputId": "3ddcb814-9ed9-4587-df91-07008e4e1050"
      },
      "outputs": [
        {
          "name": "stdout",
          "output_type": "stream",
          "text": [
            "[[0.01 0.02]\n",
            " [0.03 0.04]]\n"
          ]
        }
      ],
      "source": [
        "# scalar product with a real number\n",
        "print(0.01*x)"
      ]
    },
    {
      "cell_type": "code",
      "execution_count": null,
      "metadata": {
        "colab": {
          "base_uri": "https://localhost:8080/"
        },
        "id": "KPDywV2jne4T",
        "outputId": "670eef9a-566d-4567-f293-32e0ada07bec"
      },
      "outputs": [
        {
          "name": "stdout",
          "output_type": "stream",
          "text": [
            "[[-2.   1. ]\n",
            " [ 1.5 -0.5]]\n"
          ]
        }
      ],
      "source": [
        "# inverse matrix\n",
        "print(np.linalg.inv(x))"
      ]
    },
    {
      "cell_type": "code",
      "execution_count": null,
      "metadata": {
        "colab": {
          "base_uri": "https://localhost:8080/"
        },
        "id": "BEEJwvfFnzWs",
        "outputId": "1ee1772c-a8c1-4b4d-a0b2-38b906c8981a"
      },
      "outputs": [
        {
          "name": "stdout",
          "output_type": "stream",
          "text": [
            "This matrix is invertible\n",
            "This matrix is singular\n",
            "The pseudo-inverse of this matrix is:\n",
            "[[-6.38888889e-01 -1.66666667e-01  3.05555556e-01]\n",
            " [-5.55555556e-02  4.20756436e-17  5.55555556e-02]\n",
            " [ 5.27777778e-01  1.66666667e-01 -1.94444444e-01]]\n"
          ]
        }
      ],
      "source": [
        "# non-invertible matrix (singular matrix)\n",
        "i_m = np.array([[1, 2, 3], [4, 5, 6], [7, 8, 9]])\n",
        "try:\n",
        "  print(\"This matrix is invertible\")\n",
        "  print(np.linalg.inv(i_m))\n",
        "except:\n",
        "  print(\"This matrix is singular\")\n",
        "  print(\"The pseudo-inverse of this matrix is:\")\n",
        "  print(np.linalg.pinv(i_m))"
      ]
    },
    {
      "cell_type": "code",
      "execution_count": null,
      "metadata": {
        "colab": {
          "base_uri": "https://localhost:8080/"
        },
        "id": "CQoXuPKHn34i",
        "outputId": "99fa01c9-4f5a-4c7a-a79b-7fb1d87a3113"
      },
      "outputs": [
        {
          "name": "stdout",
          "output_type": "stream",
          "text": [
            "Matrix x:\n",
            "[[1 2]\n",
            " [3 4]]\n",
            "Transpose of x:\n",
            "[[1 3]\n",
            " [2 4]]\n",
            "[[1 3]\n",
            " [2 4]]\n"
          ]
        }
      ],
      "source": [
        "# matrix transpose\n",
        "print(\"Matrix x:\")\n",
        "print(x)\n",
        "\n",
        "print(\"Transpose of x:\")\n",
        "print(x.T)\n",
        "print(np.transpose(x))"
      ]
    },
    {
      "cell_type": "markdown",
      "metadata": {
        "id": "vkQ_fMVbn7tB"
      },
      "source": [
        "## Other operators"
      ]
    },
    {
      "cell_type": "code",
      "execution_count": null,
      "metadata": {
        "colab": {
          "base_uri": "https://localhost:8080/"
        },
        "id": "nNNLV6yKoAaB",
        "outputId": "a3f69e98-b505-4a5f-d9ea-8c2af7035779"
      },
      "outputs": [
        {
          "name": "stdout",
          "output_type": "stream",
          "text": [
            "[[1]\n",
            " [2]\n",
            " [3]\n",
            " [4]]\n"
          ]
        }
      ],
      "source": [
        "# reshape matrix: 2x2 to 4x1\n",
        "print(x.reshape(4, 1))"
      ]
    },
    {
      "cell_type": "code",
      "execution_count": null,
      "metadata": {
        "colab": {
          "base_uri": "https://localhost:8080/"
        },
        "id": "ADt55w6joQe-",
        "outputId": "51a26908-bd28-47a7-b2d4-6bfc39fe0153"
      },
      "outputs": [
        {
          "name": "stdout",
          "output_type": "stream",
          "text": [
            "[[1. 1. 1. 1.]\n",
            " [1. 1. 1. 1.]\n",
            " [1. 1. 1. 1.]]\n"
          ]
        }
      ],
      "source": [
        "# create a matrix having size 3x4 with all one-value elements\n",
        "print(np.ones((3,4)))"
      ]
    },
    {
      "cell_type": "code",
      "execution_count": null,
      "metadata": {
        "colab": {
          "base_uri": "https://localhost:8080/"
        },
        "id": "jyBB1N2ioZjN",
        "outputId": "b516610d-13d5-44f4-b3ea-fb1d2481e1aa"
      },
      "outputs": [
        {
          "data": {
            "text/plain": [
              "array([[1. , 2. , 4.1, 5.1],\n",
              "       [3. , 4. , 6.1, 7.1]])"
            ]
          },
          "execution_count": 34,
          "metadata": {},
          "output_type": "execute_result"
        }
      ],
      "source": [
        "# concatenate two matrices by merging columns\n",
        "np.concatenate([x,y], axis=1)"
      ]
    },
    {
      "cell_type": "code",
      "execution_count": null,
      "metadata": {
        "colab": {
          "base_uri": "https://localhost:8080/"
        },
        "id": "OELWy16Xofjk",
        "outputId": "798659e7-3143-42a1-e689-a5da93eff917"
      },
      "outputs": [
        {
          "data": {
            "text/plain": [
              "array([[1. , 2. ],\n",
              "       [3. , 4. ],\n",
              "       [4.1, 5.1],\n",
              "       [6.1, 7.1]])"
            ]
          },
          "execution_count": 35,
          "metadata": {},
          "output_type": "execute_result"
        }
      ],
      "source": [
        "# concatenate two matrices by merging rows\n",
        "np.concatenate([x,y], axis=0)"
      ]
    },
    {
      "cell_type": "markdown",
      "metadata": {
        "id": "309B6OJIoj0g"
      },
      "source": [
        "# 2. Linear Regression"
      ]
    },
    {
      "cell_type": "markdown",
      "metadata": {
        "id": "aahWY1Nt42lE"
      },
      "source": [
        "## Example"
      ]
    },
    {
      "cell_type": "code",
      "execution_count": 14,
      "metadata": {},
      "outputs": [
        {
          "name": "stdout",
          "output_type": "stream",
          "text": [
            "d:\\Job\\VinUni\\Research Assistant\\Teaching Assistant\\2024 April\\Machine learning\\Code\n"
          ]
        }
      ],
      "source": [
        "import os\n",
        "module_path = os.path.abspath(os.path.join('..'))\n",
        "print(module_path)"
      ]
    },
    {
      "cell_type": "code",
      "execution_count": 12,
      "metadata": {
        "id": "lyBF7f9Pow9r"
      },
      "outputs": [],
      "source": [
        "import pandas as pd\n",
        "df = pd.read_csv(os.path.join(module_path, \"dataset\", \"House_Price.csv\")) # load file csv"
      ]
    },
    {
      "cell_type": "code",
      "execution_count": 13,
      "metadata": {
        "colab": {
          "base_uri": "https://localhost:8080/",
          "height": 424
        },
        "id": "l31mOOD2oyDT",
        "outputId": "44d970d4-1c7a-405d-86ed-f97937261fab"
      },
      "outputs": [
        {
          "data": {
            "text/html": [
              "<div>\n",
              "<style scoped>\n",
              "    .dataframe tbody tr th:only-of-type {\n",
              "        vertical-align: middle;\n",
              "    }\n",
              "\n",
              "    .dataframe tbody tr th {\n",
              "        vertical-align: top;\n",
              "    }\n",
              "\n",
              "    .dataframe thead th {\n",
              "        text-align: right;\n",
              "    }\n",
              "</style>\n",
              "<table border=\"1\" class=\"dataframe\">\n",
              "  <thead>\n",
              "    <tr style=\"text-align: right;\">\n",
              "      <th></th>\n",
              "      <th>Size in feet squared</th>\n",
              "      <th>Price in thousand dollar</th>\n",
              "    </tr>\n",
              "  </thead>\n",
              "  <tbody>\n",
              "    <tr>\n",
              "      <th>0</th>\n",
              "      <td>2497</td>\n",
              "      <td>729</td>\n",
              "    </tr>\n",
              "    <tr>\n",
              "      <th>1</th>\n",
              "      <td>1627</td>\n",
              "      <td>617</td>\n",
              "    </tr>\n",
              "    <tr>\n",
              "      <th>2</th>\n",
              "      <td>576</td>\n",
              "      <td>290</td>\n",
              "    </tr>\n",
              "    <tr>\n",
              "      <th>3</th>\n",
              "      <td>2156</td>\n",
              "      <td>728</td>\n",
              "    </tr>\n",
              "    <tr>\n",
              "      <th>4</th>\n",
              "      <td>1154</td>\n",
              "      <td>453</td>\n",
              "    </tr>\n",
              "    <tr>\n",
              "      <th>...</th>\n",
              "      <td>...</td>\n",
              "      <td>...</td>\n",
              "    </tr>\n",
              "    <tr>\n",
              "      <th>95</th>\n",
              "      <td>579</td>\n",
              "      <td>207</td>\n",
              "    </tr>\n",
              "    <tr>\n",
              "      <th>96</th>\n",
              "      <td>1551</td>\n",
              "      <td>368</td>\n",
              "    </tr>\n",
              "    <tr>\n",
              "      <th>97</th>\n",
              "      <td>2243</td>\n",
              "      <td>514</td>\n",
              "    </tr>\n",
              "    <tr>\n",
              "      <th>98</th>\n",
              "      <td>803</td>\n",
              "      <td>372</td>\n",
              "    </tr>\n",
              "    <tr>\n",
              "      <th>99</th>\n",
              "      <td>2070</td>\n",
              "      <td>518</td>\n",
              "    </tr>\n",
              "  </tbody>\n",
              "</table>\n",
              "<p>100 rows × 2 columns</p>\n",
              "</div>"
            ],
            "text/plain": [
              "    Size in feet squared  Price in thousand dollar\n",
              "0                   2497                       729\n",
              "1                   1627                       617\n",
              "2                    576                       290\n",
              "3                   2156                       728\n",
              "4                   1154                       453\n",
              "..                   ...                       ...\n",
              "95                   579                       207\n",
              "96                  1551                       368\n",
              "97                  2243                       514\n",
              "98                   803                       372\n",
              "99                  2070                       518\n",
              "\n",
              "[100 rows x 2 columns]"
            ]
          },
          "execution_count": 13,
          "metadata": {},
          "output_type": "execute_result"
        }
      ],
      "source": [
        "df #investigate the dataframe"
      ]
    },
    {
      "cell_type": "code",
      "execution_count": 15,
      "metadata": {
        "colab": {
          "base_uri": "https://localhost:8080/",
          "height": 466
        },
        "id": "vIh-Ip4epEpI",
        "outputId": "931122f1-0edb-4587-a0e1-59ecfcb61920"
      },
      "outputs": [
        {
          "data": {
            "text/plain": [
              "Text(0, 0.5, 'Price in thousand dollar')"
            ]
          },
          "execution_count": 15,
          "metadata": {},
          "output_type": "execute_result"
        },
        {
          "data": {
            "image/png": "[encoded data removed]",
            "text/plain": [
              "<Figure size 640x480 with 1 Axes>"
            ]
          },
          "metadata": {},
          "output_type": "display_data"
        }
      ],
      "source": [
        "## plot the dataframe\n",
        "import matplotlib.pyplot as plt\n",
        "plt.scatter(df[\"Size in feet squared\"], df[\"Price in thousand dollar\"])\n",
        "plt.xlabel(\"Size in feet squared\")\n",
        "plt.ylabel(\"Price in thousand dollar\")"
      ]
    },
    {
      "cell_type": "markdown",
      "metadata": {
        "id": "8Z0_dQ_CpIWl"
      },
      "source": [
        "Now we want to solve a problem based on the size of the house, estimating the price:\n",
        "\n",
        "- $X$ = house size\n",
        "\n",
        "- $y$ = price\n",
        "\n",
        "Let $\\hat{y} = w_1X + w_2$ be the prediction, where $a$ and $b$ are real-number parameters.\n",
        "\n",
        "We find $w_1$ and $w_2$ such that the mean squared error is minimized, i.e., finding $w_1$ and $w_2$ such that\n",
        "\n",
        "$$ \\sum (y_i-\\hat{y}_i)^2 = \\sum (y_i - w_1x_i + w_2)^2 $$\n",
        "\n",
        "reaches its minimum value.\n",
        "\n",
        "In this problem, $x_i$ is the size of the $i$-th house, $y_i$ are the price of this house.\n",
        "\n",
        "Let $\\mathbf{w} = (w_1, w_2)$, and $\\mathbf{X}$, $\\mathbf{y}$ are matrices where each row of $\\mathbf{X}$ is the size of a house, corresponding rows of $\\mathbf{y}$ are the prices of those houses.\n",
        "\n",
        "Let $\\mathbf{Z}$ be the extended matrix of $\\mathbf{X}$ with an additional column of all ones. The objective function can be re-written as\n",
        "\n",
        "$$\\mathcal{L}\\left(\\mathbf{w}\\right) = \\frac{1}{2N}\\left\\lVert \\mathbf{y}-\\overline{\\mathbf{Z}}\\mathbf{w}\\right\\rVert^2_2.$$\n",
        "\n",
        "We find the optimal parameter by solving the equation\n",
        "\n",
        "$$\\frac{1}{2N}\\overline{\\mathbf{Z}}^\\top\\left(\\overline{\\mathbf{Z}}\\mathbf{w}-\\mathbf{y}\\right)=\\frac{\\partial \\mathcal{L}\\left(\\mathbf{w}\\right)}{\\partial \\mathbf{w}} = 0,$$\n",
        "\n",
        "or\n",
        "\n",
        "$$\\overline{\\mathbf{Z}}^\\top\\overline{\\mathbf{Z}}\\mathbf{w} = \\overline{\\mathbf{Z}}^\\top\\mathbf{y}.$$\n",
        "\n",
        "By assigning $\\mathbf{A}=\\overline{\\mathbf{Z}}^\\top\\overline{\\mathbf{Z}}$, and $\\mathbf{b} = \\overline{\\mathbf{Z}}^\\top\\mathbf{y}$, we will try to solve\n",
        "\n",
        "$$\\mathbf{A}\\mathbf{w} = \\mathbf{b}.$$\n",
        "\n",
        "The solution is:\n",
        "\n",
        "$$\\mathbf{w} = \\mathbf{A}^\\dagger\\mathbf{b} = \\left(\\overline{\\mathbf{Z}}^\\top\\overline{\\mathbf{Z}}\\right)^\\dagger\\overline{\\mathbf{Z}}^\\top\\mathbf{y},$$\n",
        "\n",
        "where $\\mathbf{M}^\\dagger$ is a pseudo-inverse matrix of $\\mathbf{M}$. Specifically, the problem is programmed as follows:"
      ]
    },
    {
      "cell_type": "code",
      "execution_count": 18,
      "metadata": {
        "id": "U6tKY0UfqWkU"
      },
      "outputs": [
        {
          "name": "stdout",
          "output_type": "stream",
          "text": [
            "[[2497]\n",
            " [1627]\n",
            " [ 576]\n",
            " [2156]\n",
            " [1154]]\n"
          ]
        }
      ],
      "source": [
        "X = df['Size in feet squared'].values    # convert the house's area into a numpy array\n",
        "X = X.reshape(-1, 1)                     # convert it into a column matrix\n",
        "print(X[:5])"
      ]
    },
    {
      "cell_type": "code",
      "execution_count": 20,
      "metadata": {
        "id": "Ri1SbKQHqZqs"
      },
      "outputs": [
        {
          "name": "stdout",
          "output_type": "stream",
          "text": [
            "[[729]\n",
            " [617]\n",
            " [290]\n",
            " [728]\n",
            " [453]]\n"
          ]
        }
      ],
      "source": [
        "y = df['Price in thousand dollar'].values   # convert the house's price into a numpy array\n",
        "y = y.reshape(-1,1)\n",
        "print(y[:5])"
      ]
    },
    {
      "cell_type": "code",
      "execution_count": 23,
      "metadata": {
        "id": "BHUOjfLMqbfm"
      },
      "outputs": [
        {
          "name": "stdout",
          "output_type": "stream",
          "text": [
            "[[2.497e+03 1.000e+00]\n",
            " [1.627e+03 1.000e+00]\n",
            " [5.760e+02 1.000e+00]\n",
            " [2.156e+03 1.000e+00]\n",
            " [1.154e+03 1.000e+00]]\n"
          ]
        }
      ],
      "source": [
        "import numpy as np\n",
        "\n",
        "Z = np.concatenate([X, np.ones((100,1))], axis=-1)   # add one column after X, then assign this new X into Z\n",
        "Z = Z.astype(np.float64)                                 # convert it into float-number array\n",
        "print(Z[:5])"
      ]
    },
    {
      "cell_type": "code",
      "execution_count": 26,
      "metadata": {
        "colab": {
          "base_uri": "https://localhost:8080/"
        },
        "id": "QhvBoDBQqdLm",
        "outputId": "d4c1e44c-889c-4d52-c1c8-418c25260b3d"
      },
      "outputs": [
        {
          "data": {
            "text/plain": [
              "array([[  0.23481102],\n",
              "       [128.4945004 ]])"
            ]
          },
          "execution_count": 26,
          "metadata": {},
          "output_type": "execute_result"
        }
      ],
      "source": [
        "# find a, b\n",
        "np.matmul(np.matmul(np.linalg.pinv(np.matmul(Z.T,Z)), Z.T), y)"
      ]
    },
    {
      "cell_type": "code",
      "execution_count": 27,
      "metadata": {
        "colab": {
          "base_uri": "https://localhost:8080/",
          "height": 466
        },
        "id": "YeDUljkGqfuU",
        "outputId": "dab20f70-2043-49c8-f175-1b4b877c9a24"
      },
      "outputs": [
        {
          "data": {
            "text/plain": [
              "Text(0, 0.5, 'Price in thousand dollar')"
            ]
          },
          "execution_count": 27,
          "metadata": {},
          "output_type": "execute_result"
        },
        {
          "data": {
            "image/png": "[encoded data removed]",
            "text/plain": [
              "<Figure size 640x480 with 1 Axes>"
            ]
          },
          "metadata": {},
          "output_type": "display_data"
        }
      ],
      "source": [
        "# plot the regression line\n",
        "import matplotlib.pyplot as plt\n",
        "plt.scatter(df[\"Size in feet squared\"], df[\"Price in thousand dollar\"])\n",
        "plt.plot(np.arange(500, 3000), 0.23481099*np.arange(500, 3000) + 128.49492905)   # plot the regression line\n",
        "plt.xlabel(\"Size in feet squared\")\n",
        "plt.ylabel(\"Price in thousand dollar\")"
      ]
    },
    {
      "cell_type": "code",
      "execution_count": 28,
      "metadata": {
        "colab": {
          "base_uri": "https://localhost:8080/",
          "height": 75
        },
        "id": "3v772X-Dwger",
        "outputId": "f0e536a6-e512-4c9a-f62d-45afc6121920"
      },
      "outputs": [
        {
          "data": {
            "text/html": [
              "<style>#sk-container-id-1 {color: black;background-color: white;}#sk-container-id-1 pre{padding: 0;}#sk-container-id-1 div.sk-toggleable {background-color: white;}#sk-container-id-1 label.sk-toggleable__label {cursor: pointer;display: block;width: 100%;margin-bottom: 0;padding: 0.3em;box-sizing: border-box;text-align: center;}#sk-container-id-1 label.sk-toggleable__label-arrow:before {content: \"▸\";float: left;margin-right: 0.25em;color: #696969;}#sk-container-id-1 label.sk-toggleable__label-arrow:hover:before {color: black;}#sk-container-id-1 div.sk-estimator:hover label.sk-toggleable__label-arrow:before {color: black;}#sk-container-id-1 div.sk-toggleable__content {max-height: 0;max-width: 0;overflow: hidden;text-align: left;background-color: #f0f8ff;}#sk-container-id-1 div.sk-toggleable__content pre {margin: 0.2em;color: black;border-radius: 0.25em;background-color: #f0f8ff;}#sk-container-id-1 input.sk-toggleable__control:checked~div.sk-toggleable__content {max-height: 200px;max-width: 100%;overflow: auto;}#sk-container-id-1 input.sk-toggleable__control:checked~label.sk-toggleable__label-arrow:before {content: \"▾\";}#sk-container-id-1 div.sk-estimator input.sk-toggleable__control:checked~label.sk-toggleable__label {background-color: #d4ebff;}#sk-container-id-1 div.sk-label input.sk-toggleable__control:checked~label.sk-toggleable__label {background-color: #d4ebff;}#sk-container-id-1 input.sk-hidden--visually {border: 0;clip: rect(1px 1px 1px 1px);clip: rect(1px, 1px, 1px, 1px);height: 1px;margin: -1px;overflow: hidden;padding: 0;position: absolute;width: 1px;}#sk-container-id-1 div.sk-estimator {font-family: monospace;background-color: #f0f8ff;border: 1px dotted black;border-radius: 0.25em;box-sizing: border-box;margin-bottom: 0.5em;}#sk-container-id-1 div.sk-estimator:hover {background-color: #d4ebff;}#sk-container-id-1 div.sk-parallel-item::after {content: \"\";width: 100%;border-bottom: 1px solid gray;flex-grow: 1;}#sk-container-id-1 div.sk-label:hover label.sk-toggleable__label {background-color: #d4ebff;}#sk-container-id-1 div.sk-serial::before {content: \"\";position: absolute;border-left: 1px solid gray;box-sizing: border-box;top: 0;bottom: 0;left: 50%;z-index: 0;}#sk-container-id-1 div.sk-serial {display: flex;flex-direction: column;align-items: center;background-color: white;padding-right: 0.2em;padding-left: 0.2em;position: relative;}#sk-container-id-1 div.sk-item {position: relative;z-index: 1;}#sk-container-id-1 div.sk-parallel {display: flex;align-items: stretch;justify-content: center;background-color: white;position: relative;}#sk-container-id-1 div.sk-item::before, #sk-container-id-1 div.sk-parallel-item::before {content: \"\";position: absolute;border-left: 1px solid gray;box-sizing: border-box;top: 0;bottom: 0;left: 50%;z-index: -1;}#sk-container-id-1 div.sk-parallel-item {display: flex;flex-direction: column;z-index: 1;position: relative;background-color: white;}#sk-container-id-1 div.sk-parallel-item:first-child::after {align-self: flex-end;width: 50%;}#sk-container-id-1 div.sk-parallel-item:last-child::after {align-self: flex-start;width: 50%;}#sk-container-id-1 div.sk-parallel-item:only-child::after {width: 0;}#sk-container-id-1 div.sk-dashed-wrapped {border: 1px dashed gray;margin: 0 0.4em 0.5em 0.4em;box-sizing: border-box;padding-bottom: 0.4em;background-color: white;}#sk-container-id-1 div.sk-label label {font-family: monospace;font-weight: bold;display: inline-block;line-height: 1.2em;}#sk-container-id-1 div.sk-label-container {text-align: center;}#sk-container-id-1 div.sk-container {/* jupyter's `normalize.less` sets `[hidden] { display: none; }` but bootstrap.min.css set `[hidden] { display: none !important; }` so we also need the `!important` here to be able to override the default hidden behavior on the sphinx rendered scikit-learn.org. See: https://github.com/scikit-learn/scikit-learn/issues/21755 */display: inline-block !important;position: relative;}#sk-container-id-1 div.sk-text-repr-fallback {display: none;}</style><div id=\"sk-container-id-1\" class=\"sk-top-container\"><div class=\"sk-text-repr-fallback\"><pre>LinearRegression(fit_intercept=False)</pre><b>In a Jupyter environment, please rerun this cell to show the HTML representation or trust the notebook. <br />On GitHub, the HTML representation is unable to render, please try loading this page with nbviewer.org.</b></div><div class=\"sk-container\" hidden><div class=\"sk-item\"><div class=\"sk-estimator sk-toggleable\"><input class=\"sk-toggleable__control sk-hidden--visually\" id=\"sk-estimator-id-1\" type=\"checkbox\" checked><label for=\"sk-estimator-id-1\" class=\"sk-toggleable__label sk-toggleable__label-arrow\">LinearRegression</label><div class=\"sk-toggleable__content\"><pre>LinearRegression(fit_intercept=False)</pre></div></div></div></div></div>"
            ],
            "text/plain": [
              "LinearRegression(fit_intercept=False)"
            ]
          },
          "execution_count": 28,
          "metadata": {},
          "output_type": "execute_result"
        }
      ],
      "source": [
        "#using sklearn library\n",
        "\n",
        "from sklearn import datasets, linear_model\n",
        "\n",
        "# fit the model by Linear Regression\n",
        "regr = linear_model.LinearRegression(fit_intercept=False) # fit_intercept = False for calculating the bias\n",
        "regr.fit(Z, y)"
      ]
    },
    {
      "cell_type": "code",
      "execution_count": 29,
      "metadata": {
        "colab": {
          "base_uri": "https://localhost:8080/"
        },
        "id": "DA--x-fRwrnE",
        "outputId": "3dd44011-a753-4cca-8336-7adffb032093"
      },
      "outputs": [
        {
          "name": "stdout",
          "output_type": "stream",
          "text": [
            "Solution found by scikit-learn: [[  0.23481102 128.4945004 ]]\n",
            "Solution found manually: [[  0.23481102]\n",
            " [128.4945004 ]]\n"
          ]
        }
      ],
      "source": [
        "print('Solution found by scikit-learn:', regr.coef_)\n",
        "print('Solution found manually:', np.matmul(np.matmul(np.linalg.pinv(np.matmul(Z.T,Z)), Z.T), y))"
      ]
    },
    {
      "cell_type": "markdown",
      "metadata": {
        "id": "z9FJOGIcxVLf"
      },
      "source": [
        "## 3. Exercise"
      ]
    },
    {
      "cell_type": "markdown",
      "metadata": {
        "id": "TksepNk51rOC"
      },
      "source": [
        "Given a dataset consisting of 100 rows, including width, length, and price of a house (**House_Price_2**). We will build a model to predict house prices based on width and length.\n",
        "\n",
        "Using the trained model, predict the prices of houses with the following information:\n",
        "\n",
        "- width = 5, length = 10\n",
        "- width = 20, length = 20\n",
        "- width = 10, length = 40"
      ]
    },
    {
      "cell_type": "code",
      "execution_count": null,
      "metadata": {
        "id": "q1F3NULMxX46"
      },
      "outputs": [],
      "source": []
    },
    {
      "cell_type": "markdown",
      "metadata": {},
      "source": []
    }
  ],
  "metadata": {
    "colab": {
      "provenance": []
    },
    "kernelspec": {
      "display_name": "Python 3",
      "name": "python3"
    },
    "language_info": {
      "codemirror_mode": {
        "name": "ipython",
        "version": 3
      },
      "file_extension": ".py",
      "mimetype": "text/x-python",
      "name": "python",
      "nbconvert_exporter": "python",
      "pygments_lexer": "ipython3",
      "version": "3.11.0"
    }
  },
  "nbformat": 4,
  "nbformat_minor": 0
}
