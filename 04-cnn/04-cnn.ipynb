{
  "cells": [
    {
      "cell_type": "markdown",
      "metadata": {
        "id": "6cILIFGdqOq9"
      },
      "source": [
        "# Introduction to Deep Neural Network"
      ]
    },
    {
      "cell_type": "markdown",
      "metadata": {
        "id": "zod598tcqSej"
      },
      "source": [
        "In this notebook, we will:\n",
        "- Get started with Keras, Pytorch libraries for building neural networks.\n",
        "  - Keras is an easy-implementing TensorFlow-based library.\n",
        "  - Pytorch is more friendly with researchers.\n",
        "- Design a simple deep neural network for classifying characters in the MNIST dataset."
      ]
    },
    {
      "cell_type": "markdown",
      "metadata": {
        "id": "0h8pGLBIMav1"
      },
      "source": [
        "# Tensorflow"
      ]
    },
    {
      "cell_type": "markdown",
      "metadata": {
        "id": "oH4DGkLgMcdB"
      },
      "source": [
        "## Import libraries"
      ]
    },
    {
      "cell_type": "code",
      "execution_count": null,
      "metadata": {
        "id": "5G4tuuJuqN9V"
      },
      "outputs": [],
      "source": [
        "#import libraries\n",
        "import tensorflow as tf\n",
        "import keras\n",
        "import numpy as np\n",
        "import matplotlib.pyplot as plt"
      ]
    },
    {
      "cell_type": "code",
      "execution_count": null,
      "metadata": {
        "colab": {
          "base_uri": "https://localhost:8080/",
          "height": 35
        },
        "id": "lGooxigBMSzf",
        "outputId": "d0bbb2fd-5f84-4555-ba26-006c8dfd0123"
      },
      "outputs": [
        {
          "data": {
            "application/vnd.google.colaboratory.intrinsic+json": {
              "type": "string"
            },
            "text/plain": [
              "'2.15.0'"
            ]
          },
          "execution_count": 10,
          "metadata": {},
          "output_type": "execute_result"
        }
      ],
      "source": [
        "#keras version checking\n",
        "keras.__version__"
      ]
    },
    {
      "cell_type": "markdown",
      "metadata": {
        "id": "YEeN3QHSMZI6"
      },
      "source": [
        "## Pre-processing"
      ]
    },
    {
      "cell_type": "markdown",
      "metadata": {
        "id": "llqIbgNOMgEF"
      },
      "source": [
        "Rescaling the images' pixel value in $[0,1]$ to keep the weights being not too high.\n",
        "\n",
        "The validation dataset is used to tune the hyper-parameter of the model."
      ]
    },
    {
      "cell_type": "code",
      "execution_count": null,
      "metadata": {
        "colab": {
          "base_uri": "https://localhost:8080/",
          "height": 534
        },
        "id": "lPRxqfP3MX8E",
        "outputId": "32aba933-df29-4f96-f981-6bd956e2ca18"
      },
      "outputs": [
        {
          "name": "stdout",
          "output_type": "stream",
          "text": [
            "(60000, 28, 28) (60000,) (10000, 28, 28) (10000,)\n",
            "There are 60000 images for training and validating, 10000 images for testingt\n",
            "Each image only has 1 channel, and size 28x28\n",
            "\n",
            "First image of the training set\n",
            "Label of this image:  5\n"
          ]
        },
        {
          "data": {
            "image/png": "[encoded data removed]",
            "text/plain": [
              "<Figure size 640x480 with 1 Axes>"
            ]
          },
          "metadata": {},
          "output_type": "display_data"
        }
      ],
      "source": [
        "# Download MNIST dataset from keras\n",
        "\n",
        "(X_train, y_train), (X_test, y_test) = keras.datasets.mnist.load_data()\n",
        "# Rescale images' pixel in [0, 1]\n",
        "X_train, X_test = X_train/255.0, X_test/255.0\n",
        "\n",
        "# Checking dataset\n",
        "print(X_train.shape, y_train.shape, X_test.shape, y_test.shape)\n",
        "print(\"There are 60000 images for training and validating, 10000 images for testingt\")\n",
        "print(\"Each image only has 1 channel, and size 28x28\")\n",
        "print()\n",
        "\n",
        "## Try to print an image\n",
        "print(\"First image of the training set\")\n",
        "print(\"Label of this image: \", y_train[0])\n",
        "plt.imshow(X_train[0], cmap='gray')\n",
        "plt.show()\n",
        "\n",
        "# Split a part of training dataset into validating dataset\n",
        "from sklearn.model_selection import train_test_split\n",
        "X_train, X_valid, y_train, y_valid = train_test_split(X_train, y_train, test_size=0.1)"
      ]
    },
    {
      "cell_type": "code",
      "execution_count": null,
      "metadata": {
        "colab": {
          "base_uri": "https://localhost:8080/"
        },
        "id": "Mag8DITsVzDj",
        "outputId": "1e2351ea-16ec-49c3-c91b-f57dee8dea55"
      },
      "outputs": [
        {
          "name": "stdout",
          "output_type": "stream",
          "text": [
            "Input size: (None, 28, 28), the None value demonstrates for the unknown number of images in one batch.\n",
            "Reshaped size: (None, 28, 28, 1)\n",
            "Conv size: (None, 28, 28, 20), the last dimension is the number of filters\n",
            "Size after maxpooling: (None, 14, 14, 20)\n",
            "Flatten size: (None, 3920)\n",
            "Model's architecture:\n",
            "Model: \"model_2\"\n",
            "_________________________________________________________________\n",
            " Layer (type)                Output Shape              Param #   \n",
            "=================================================================\n",
            " input_3 (InputLayer)        [(None, 28, 28)]          0         \n",
            "                                                                 \n",
            " reshape_2 (Reshape)         (None, 28, 28, 1)         0         \n",
            "                                                                 \n",
            " conv2d_2 (Conv2D)           (None, 28, 28, 20)        520       \n",
            "                                                                 \n",
            " max_pooling2d_2 (MaxPoolin  (None, 14, 14, 20)        0         \n",
            " g2D)                                                            \n",
            "                                                                 \n",
            " flatten_2 (Flatten)         (None, 3920)              0         \n",
            "                                                                 \n",
            " dense_2 (Dense)             (None, 10)                39210     \n",
            "                                                                 \n",
            "=================================================================\n",
            "Total params: 39730 (155.20 KB)\n",
            "Trainable params: 39730 (155.20 KB)\n",
            "Non-trainable params: 0 (0.00 Byte)\n",
            "_________________________________________________________________\n"
          ]
        }
      ],
      "source": [
        "## Create the inpurt layer\n",
        "inputs = keras.layers.Input(shape=(28,28))\n",
        "\n",
        "print(\"Input size: {}, the None value demonstrates for the unknown number of images in one batch.\".format(inputs.shape))\n",
        "\n",
        "## Reshape input\n",
        "## Input do input vào lớp convolutional layer cần có 4 chiều, chiều cuối là số kênh,\n",
        "## MNIST image is grayscale, it only has 1 channel\n",
        "inputs_reshape = keras.layers.Reshape((28,28,1))(inputs)\n",
        "print(\"Reshaped size: {}\".format(inputs_reshape.shape))\n",
        "\n",
        "## Create a convolutional network\n",
        "### fileters: number of filters\n",
        "### kernel_size: filter size\n",
        "### strides: strides of filter for calculating convolutional\n",
        "### padding: add zeros at borders of images\n",
        "### activation: activation function of the convolutional layer\n",
        "conv = keras.layers.Convolution2D(filters=20,\n",
        "                                 kernel_size=[5,5],\n",
        "                                 strides=[1,1],\n",
        "                                 padding='same',\n",
        "                                 activation=tf.nn.relu)(inputs_reshape)\n",
        "print(\"Conv size: {}, the last dimension is the number of filters\".format(conv.shape))\n",
        "\n",
        "## Maxpooling\n",
        "### pool_size: pooling size\n",
        "### strides: pooling strides\n",
        "maxpool = keras.layers.MaxPool2D(pool_size=[2,2],\n",
        "                                strides=[2,2])(conv)\n",
        "print(\"Size after maxpooling: {}\".format(maxpool.shape))\n",
        "\n",
        "## Flatten the convolutional layer before assign them to the dense layer since this layer requires input as a vector\n",
        "flatten = keras.layers.Flatten()(maxpool)\n",
        "print(\"Flatten size: {}\".format(flatten.shape))\n",
        "\n",
        "## The fully connected layer with softmax being the activation function, units are Node's numbers\n",
        "softmax = keras.layers.Dense(units=10, activation='softmax')(flatten)\n",
        "\n",
        "\n",
        "## Create the model\n",
        "model = keras.models.Model(inputs=inputs, outputs=softmax)\n",
        "\n",
        "## Compile model,\n",
        "    ### optimizer is the optimal algorithm, we will use sgd\n",
        "    ### loss function is the objective\n",
        "    ### metrics: evaluation metrics\n",
        "\n",
        "opt = keras.optimizers.SGD(learning_rate=0.01)\n",
        "\n",
        "model.compile(optimizer = opt,\n",
        "             loss=tf.keras.losses.sparse_categorical_crossentropy,\n",
        "             metrics=[\"accuracy\"])\n",
        "\n",
        "\n",
        "## Print the model architecture\n",
        "print(\"Model's architecture:\")\n",
        "model.summary()"
      ]
    },
    {
      "cell_type": "code",
      "execution_count": null,
      "metadata": {
        "colab": {
          "base_uri": "https://localhost:8080/"
        },
        "id": "Hmpeydn4WqHx",
        "outputId": "4da3efa2-4555-42ea-9059-d308133ac2c9"
      },
      "outputs": [
        {
          "name": "stdout",
          "output_type": "stream",
          "text": [
            "1688/1688 [==============================] - 16s 8ms/step - loss: 0.5541 - accuracy: 0.8514 - val_loss: 0.3071 - val_accuracy: 0.9103\n",
            "313/313 [==============================] - 2s 6ms/step - loss: 0.3026 - accuracy: 0.9126\n",
            "Loss on test set: 0.30257442593574524  Accuracy on test set: 0.9125999808311462\n"
          ]
        }
      ],
      "source": [
        "# Use the fit function to train model\n",
        "## Inputs as two numpy array, X_train is images, y_train is labels\n",
        "## batch_size: Batch size\n",
        "## epochs: Running epochs\n",
        "## validation data: We will evaluate the model based on this data\n",
        "history=model.fit(X_train,y_train,\n",
        "                  epochs=1,\n",
        "                  batch_size=32,\n",
        "                  validation_data=(X_valid,y_valid))\n",
        "\n",
        "## Save model as a file\n",
        "model.save_weights(\"first_model.h5\")\n",
        "\n",
        "\n",
        "## Load model\n",
        "model.load_weights(\"first_model.h5\")\n",
        "\n",
        "## Evaluate model on test set\n",
        "test_loss, test_acc = model.evaluate(X_test, y_test)\n",
        "print(\"Loss on test set:\", test_loss,\" Accuracy on test set:\", test_acc)"
      ]
    },
    {
      "cell_type": "markdown",
      "metadata": {
        "id": "KUsmNbQJVB7Z"
      },
      "source": [
        "# Pytorch"
      ]
    },
    {
      "cell_type": "code",
      "execution_count": null,
      "metadata": {
        "colab": {
          "base_uri": "https://localhost:8080/"
        },
        "id": "GSCprg3MVC_M",
        "outputId": "70acacef-fb69-48a4-ec5a-79bec5c99af4"
      },
      "outputs": [
        {
          "name": "stdout",
          "output_type": "stream",
          "text": [
            "Downloading http://yann.lecun.com/exdb/mnist/train-images-idx3-ubyte.gz\n",
            "Downloading http://yann.lecun.com/exdb/mnist/train-images-idx3-ubyte.gz to ./data/MNIST/raw/train-images-idx3-ubyte.gz\n"
          ]
        },
        {
          "name": "stderr",
          "output_type": "stream",
          "text": [
            "100%|██████████| 9912422/9912422 [00:00<00:00, 138344063.18it/s]"
          ]
        },
        {
          "name": "stdout",
          "output_type": "stream",
          "text": [
            "Extracting ./data/MNIST/raw/train-images-idx3-ubyte.gz to ./data/MNIST/raw\n"
          ]
        },
        {
          "name": "stderr",
          "output_type": "stream",
          "text": [
            "\n"
          ]
        },
        {
          "name": "stdout",
          "output_type": "stream",
          "text": [
            "\n",
            "Downloading http://yann.lecun.com/exdb/mnist/train-labels-idx1-ubyte.gz\n",
            "Downloading http://yann.lecun.com/exdb/mnist/train-labels-idx1-ubyte.gz to ./data/MNIST/raw/train-labels-idx1-ubyte.gz\n"
          ]
        },
        {
          "name": "stderr",
          "output_type": "stream",
          "text": [
            "100%|██████████| 28881/28881 [00:00<00:00, 99454592.63it/s]\n"
          ]
        },
        {
          "name": "stdout",
          "output_type": "stream",
          "text": [
            "Extracting ./data/MNIST/raw/train-labels-idx1-ubyte.gz to ./data/MNIST/raw\n",
            "\n",
            "Downloading http://yann.lecun.com/exdb/mnist/t10k-images-idx3-ubyte.gz\n",
            "Downloading http://yann.lecun.com/exdb/mnist/t10k-images-idx3-ubyte.gz to ./data/MNIST/raw/t10k-images-idx3-ubyte.gz\n"
          ]
        },
        {
          "name": "stderr",
          "output_type": "stream",
          "text": [
            "100%|██████████| 1648877/1648877 [00:00<00:00, 136467330.92it/s]"
          ]
        },
        {
          "name": "stdout",
          "output_type": "stream",
          "text": [
            "Extracting ./data/MNIST/raw/t10k-images-idx3-ubyte.gz to ./data/MNIST/raw\n",
            "\n",
            "Downloading http://yann.lecun.com/exdb/mnist/t10k-labels-idx1-ubyte.gz\n"
          ]
        },
        {
          "name": "stderr",
          "output_type": "stream",
          "text": [
            "\n"
          ]
        },
        {
          "name": "stdout",
          "output_type": "stream",
          "text": [
            "Downloading http://yann.lecun.com/exdb/mnist/t10k-labels-idx1-ubyte.gz to ./data/MNIST/raw/t10k-labels-idx1-ubyte.gz\n"
          ]
        },
        {
          "name": "stderr",
          "output_type": "stream",
          "text": [
            "100%|██████████| 4542/4542 [00:00<00:00, 14238063.35it/s]"
          ]
        },
        {
          "name": "stdout",
          "output_type": "stream",
          "text": [
            "Extracting ./data/MNIST/raw/t10k-labels-idx1-ubyte.gz to ./data/MNIST/raw\n",
            "\n"
          ]
        },
        {
          "name": "stderr",
          "output_type": "stream",
          "text": [
            "\n"
          ]
        }
      ],
      "source": [
        "import torch\n",
        "import torch.nn as nn\n",
        "import torch.optim as optim\n",
        "import torchvision\n",
        "import torchvision.transforms as transforms\n",
        "from torch.utils.data import DataLoader\n",
        "\n",
        "# Hyperparameters\n",
        "learning_rate = 0.01\n",
        "batch_size = 32\n",
        "num_epochs = 1\n",
        "\n",
        "# Download MNIST dataset\n",
        "# transform = transforms.Compose([transforms.ToTensor(), transforms.Normalize((0.5,), (0.5,))])\n",
        "transform = transforms.Compose([transforms.ToTensor()])#, transforms.Normalize((0.5,), (0.5,))])\n",
        "train_dataset = torchvision.datasets.MNIST(root='./data', train=True, transform=transform, download=True)\n",
        "test_dataset = torchvision.datasets.MNIST(root='./data', train=False, transform=transform)\n",
        "\n",
        "# Data loader\n",
        "train_loader = DataLoader(dataset=train_dataset, batch_size=batch_size, shuffle=True)\n",
        "test_loader = DataLoader(dataset=test_dataset, batch_size=batch_size, shuffle=False)"
      ]
    },
    {
      "cell_type": "code",
      "execution_count": null,
      "metadata": {
        "id": "InQbYN35eUoa"
      },
      "outputs": [],
      "source": [
        "# Define the convolutional neural network class\n",
        "class ConvNet(nn.Module):\n",
        "    def __init__(self):\n",
        "        super(ConvNet, self).__init__()\n",
        "        self.conv1 = nn.Conv2d(in_channels=1, out_channels=20, kernel_size=5, stride=1, padding=2)\n",
        "        self.relu = nn.ReLU()\n",
        "        self.maxpool = nn.MaxPool2d(kernel_size=2, stride=2)\n",
        "        self.fc = nn.Linear(20 * 14 * 14, 10)  # Output size after max pooling: (28-2)/2 = 14\n",
        "\n",
        "    def forward(self, x):\n",
        "        out = self.conv1(x)\n",
        "        out = self.relu(out)\n",
        "        out = self.maxpool(out)\n",
        "        out = out.view(out.size(0), -1)  # Flatten the output for fully connected layer\n",
        "        out = self.fc(out)\n",
        "        return out"
      ]
    },
    {
      "cell_type": "code",
      "execution_count": null,
      "metadata": {
        "colab": {
          "base_uri": "https://localhost:8080/"
        },
        "id": "Oymajc5CeZGK",
        "outputId": "d6b60934-4543-47a4-d784-1a8da783f83e"
      },
      "outputs": [
        {
          "name": "stdout",
          "output_type": "stream",
          "text": [
            "Epoch [1/1], Step [100/1875], Loss: 1.1632\n",
            "Epoch [1/1], Step [200/1875], Loss: 0.8257\n",
            "Epoch [1/1], Step [300/1875], Loss: 0.4861\n",
            "Epoch [1/1], Step [400/1875], Loss: 0.6125\n",
            "Epoch [1/1], Step [500/1875], Loss: 0.2757\n",
            "Epoch [1/1], Step [600/1875], Loss: 0.3131\n",
            "Epoch [1/1], Step [700/1875], Loss: 0.2887\n",
            "Epoch [1/1], Step [800/1875], Loss: 0.3534\n",
            "Epoch [1/1], Step [900/1875], Loss: 0.3657\n",
            "Epoch [1/1], Step [1000/1875], Loss: 0.4177\n",
            "Epoch [1/1], Step [1100/1875], Loss: 0.6945\n",
            "Epoch [1/1], Step [1200/1875], Loss: 0.2164\n",
            "Epoch [1/1], Step [1300/1875], Loss: 0.5026\n",
            "Epoch [1/1], Step [1400/1875], Loss: 0.4525\n",
            "Epoch [1/1], Step [1500/1875], Loss: 0.2928\n",
            "Epoch [1/1], Step [1600/1875], Loss: 0.3698\n",
            "Epoch [1/1], Step [1700/1875], Loss: 0.2416\n",
            "Epoch [1/1], Step [1800/1875], Loss: 0.1180\n",
            "Accuracy of the model on the 10000 test images: 91.8%\n"
          ]
        }
      ],
      "source": [
        "# Initialize the model\n",
        "model = ConvNet()\n",
        "\n",
        "# Loss and optimizer\n",
        "criterion = nn.CrossEntropyLoss()\n",
        "# criterion = nn.KLDivLoss(reduction=\"batchmean\")\n",
        "optimizer = optim.SGD(model.parameters(), lr=learning_rate)\n",
        "\n",
        "# Train the model\n",
        "total_step = len(train_loader)\n",
        "for epoch in range(num_epochs):\n",
        "    for i, (images, labels) in enumerate(train_loader):\n",
        "        # Forward pass\n",
        "        outputs = model(images)\n",
        "        # labels = torch.nn.functional.one_hot(labels, num_classes=10).float()  # Convert labels to one-hot encoding\n",
        "        # loss = criterion(torch.log_softmax(outputs, dim=1), labels)\n",
        "        loss = criterion(outputs, labels)\n",
        "\n",
        "        # Backward and optimize\n",
        "        optimizer.zero_grad()\n",
        "        loss.backward()\n",
        "        optimizer.step()\n",
        "\n",
        "        if (i+1) % 100 == 0:\n",
        "            print(f'Epoch [{epoch+1}/{num_epochs}], Step [{i+1}/{total_step}], Loss: {loss.item():.4f}')\n",
        "\n",
        "# Test the model\n",
        "with torch.no_grad():\n",
        "    correct = 0\n",
        "    total = 0\n",
        "    for images, labels in test_loader:\n",
        "        outputs = model(images)\n",
        "        _, predicted = torch.max(outputs.data, 1)\n",
        "        total += labels.size(0)\n",
        "        correct += (predicted == labels).sum().item()\n",
        "\n",
        "    print(f'Accuracy of the model on the 10000 test images: {100 * correct / total}%')"
      ]
    },
    {
      "cell_type": "code",
      "execution_count": null,
      "metadata": {
        "colab": {
          "base_uri": "https://localhost:8080/"
        },
        "id": "8tl5zCOexYck",
        "outputId": "22870595-f0d0-4c4e-dd63-8d7f721d82f2"
      },
      "outputs": [
        {
          "name": "stdout",
          "output_type": "stream",
          "text": [
            "Epoch [1/2], Step [100/1875], Loss: -0.1105\n",
            "Epoch [1/2], Step [200/1875], Loss: -0.1427\n",
            "Epoch [1/2], Step [300/1875], Loss: -0.2293\n",
            "Epoch [1/2], Step [400/1875], Loss: -0.3111\n",
            "Epoch [1/2], Step [500/1875], Loss: -0.3930\n",
            "Epoch [1/2], Step [600/1875], Loss: -0.4527\n",
            "Epoch [1/2], Step [700/1875], Loss: -0.5901\n",
            "Epoch [1/2], Step [800/1875], Loss: -0.6509\n",
            "Epoch [1/2], Step [900/1875], Loss: -0.5812\n",
            "Epoch [1/2], Step [1000/1875], Loss: -0.7594\n",
            "Epoch [1/2], Step [1100/1875], Loss: -0.7658\n",
            "Epoch [1/2], Step [1200/1875], Loss: -0.8054\n",
            "Epoch [1/2], Step [1300/1875], Loss: -0.7902\n",
            "Epoch [1/2], Step [1400/1875], Loss: -0.7374\n",
            "Epoch [1/2], Step [1500/1875], Loss: -0.8344\n",
            "Epoch [1/2], Step [1600/1875], Loss: -0.7461\n",
            "Epoch [1/2], Step [1700/1875], Loss: -0.7976\n",
            "Epoch [1/2], Step [1800/1875], Loss: -0.8781\n",
            "Epoch [2/2], Step [100/1875], Loss: -0.7325\n",
            "Epoch [2/2], Step [200/1875], Loss: -0.9129\n",
            "Epoch [2/2], Step [300/1875], Loss: -0.7771\n",
            "Epoch [2/2], Step [400/1875], Loss: -0.8560\n",
            "Epoch [2/2], Step [500/1875], Loss: -0.7556\n",
            "Epoch [2/2], Step [600/1875], Loss: -0.7439\n",
            "Epoch [2/2], Step [700/1875], Loss: -0.7950\n",
            "Epoch [2/2], Step [800/1875], Loss: -0.7699\n",
            "Epoch [2/2], Step [900/1875], Loss: -0.8175\n",
            "Epoch [2/2], Step [1000/1875], Loss: -0.8761\n",
            "Epoch [2/2], Step [1100/1875], Loss: -0.9275\n",
            "Epoch [2/2], Step [1200/1875], Loss: -0.8273\n",
            "Epoch [2/2], Step [1300/1875], Loss: -0.7621\n",
            "Epoch [2/2], Step [1400/1875], Loss: -0.9015\n",
            "Epoch [2/2], Step [1500/1875], Loss: -0.8386\n",
            "Epoch [2/2], Step [1600/1875], Loss: -0.7165\n",
            "Epoch [2/2], Step [1700/1875], Loss: -0.7582\n",
            "Epoch [2/2], Step [1800/1875], Loss: -0.7828\n",
            "Accuracy of the model on the 10000 test images: 84.43%\n"
          ]
        }
      ],
      "source": [
        "# Initialize the model\n",
        "model = ConvNet()\n",
        "\n",
        "learning_rate = 0.01\n",
        "batch_size = 32\n",
        "num_epochs = 1\n",
        "\n",
        "# Loss and optimizer\n",
        "# criterion = nn.CrossEntropyLoss()\n",
        "criterion = nn.KLDivLoss(reduction=\"batchmean\")\n",
        "# criterion = nn.NLLLoss()\n",
        "optimizer = optim.SGD(model.parameters(), lr=learning_rate)\n",
        "\n",
        "# Train the model\n",
        "total_step = len(train_loader)\n",
        "for epoch in range(num_epochs):\n",
        "    for i, (images, labels) in enumerate(train_loader):\n",
        "        # Forward pass\n",
        "        outputs = model(images)\n",
        "        labels = torch.nn.functional.one_hot(labels, num_classes=10).float()  # Convert labels to one-hot encoding\n",
        "        labels\n",
        "        loss = criterion(torch.log_softmax(outputs, dim=1), labels)\n",
        "\n",
        "        #log-softmax output values are in the range of [-inf, 0]\n",
        "        #KL loss require input in range of [-inf, 0]\n",
        "\n",
        "        # Backward and optimize\n",
        "        optimizer.zero_grad()\n",
        "        loss.backward()\n",
        "        optimizer.step()\n",
        "\n",
        "        if (i+1) % 100 == 0:\n",
        "            print(f'Epoch [{epoch+1}/{num_epochs}], Step [{i+1}/{total_step}], Loss: {loss.item():.4f}')\n",
        "\n",
        "# Test the model\n",
        "with torch.no_grad():\n",
        "    correct = 0\n",
        "    total = 0\n",
        "    for images, labels in test_loader:\n",
        "        outputs = model(images)\n",
        "        _, predicted = torch.max(outputs.data, 1)\n",
        "        total += labels.size(0)\n",
        "        correct += (predicted == labels).sum().item()\n",
        "\n",
        "    print(f'Accuracy of the model on the 10000 test images: {100 * correct / total}%')"
      ]
    }
  ],
  "metadata": {
    "accelerator": "GPU",
    "colab": {
      "gpuType": "T4",
      "provenance": []
    },
    "kernelspec": {
      "display_name": "Python 3",
      "name": "python3"
    },
    "language_info": {
      "name": "python"
    }
  },
  "nbformat": 4,
  "nbformat_minor": 0
}
